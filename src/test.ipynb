{
 "metadata": {
  "language_info": {
   "codemirror_mode": {
    "name": "ipython",
    "version": 3
   },
   "file_extension": ".py",
   "mimetype": "text/x-python",
   "name": "python",
   "nbconvert_exporter": "python",
   "pygments_lexer": "ipython3",
   "version": "3.8.5-final"
  },
  "orig_nbformat": 2,
  "kernelspec": {
   "name": "python3",
   "display_name": "Python 3",
   "language": "python"
  }
 },
 "nbformat": 4,
 "nbformat_minor": 2,
 "cells": [
  {
   "cell_type": "code",
   "execution_count": 4,
   "metadata": {},
   "outputs": [],
   "source": [
    "import os\n",
    "import sys\n",
    "import json\n",
    "import numpy as np\n",
    "import re\n",
    "import copy"
   ]
  },
  {
   "cell_type": "code",
   "execution_count": 2,
   "metadata": {},
   "outputs": [],
   "source": [
    "def read_ARC_JSON(filepath):\n",
    "    \"\"\"Given a filepath, read in the ARC task data which is in JSON\n",
    "    format. Extract the train/test input/output pairs of\n",
    "    grids. Convert each grid to np.array and return train_input,\n",
    "    train_output, test_input, test_output.\"\"\"\n",
    "\n",
    "    # Open the JSON file and load it\n",
    "    data = json.load(open(filepath))\n",
    "\n",
    "    # Extract the train/test input/output grids. Each grid will be a\n",
    "    # list of lists of ints. We convert to Numpy.\n",
    "    train_input = [np.array(data['train'][i]['input'])\n",
    "                   for i in range(len(data['train']))]\n",
    "    train_output = [np.array(data['train'][i]['output'])\n",
    "                    for i in range(len(data['train']))]\n",
    "    test_input = [np.array(data['test'][i]['input'])\n",
    "                  for i in range(len(data['test']))]\n",
    "    test_output = [np.array(data['test'][i]['output'])\n",
    "                   for i in range(len(data['test']))]\n",
    "\n",
    "    return (train_input, train_output, test_input, test_output)"
   ]
  },
  {
   "cell_type": "code",
   "execution_count": 7,
   "metadata": {},
   "outputs": [],
   "source": [
    "data = read_ARC_JSON(\"../data/training/dc1df850.json\")"
   ]
  },
  {
   "cell_type": "code",
   "execution_count": 13,
   "metadata": {},
   "outputs": [
    {
     "output_type": "stream",
     "name": "stdout",
     "text": [
      "<class 'list'>\n"
     ]
    }
   ],
   "source": [
    "print(type(data[2]))"
   ]
  },
  {
   "cell_type": "code",
   "execution_count": null,
   "metadata": {},
   "outputs": [],
   "source": []
  }
 ]
}