{
 "metadata": {
  "language_info": {
   "codemirror_mode": {
    "name": "ipython",
    "version": 3
   },
   "file_extension": ".py",
   "mimetype": "text/x-python",
   "name": "python",
   "nbconvert_exporter": "python",
   "pygments_lexer": "ipython3",
   "version": "3.8.5-final"
  },
  "orig_nbformat": 2,
  "kernelspec": {
   "name": "python3",
   "display_name": "Python 3",
   "language": "python"
  }
 },
 "nbformat": 4,
 "nbformat_minor": 2,
 "cells": [
  {
   "cell_type": "code",
   "execution_count": 15,
   "metadata": {},
   "outputs": [],
   "source": [
    "import os\n",
    "import sys\n",
    "import json\n",
    "import numpy as np\n",
    "import re\n",
    "import copy\n",
    "from scipy import ndimage"
   ]
  },
  {
   "cell_type": "code",
   "execution_count": 2,
   "metadata": {},
   "outputs": [],
   "source": [
    "def read_ARC_JSON(filepath):\n",
    "    \"\"\"Given a filepath, read in the ARC task data which is in JSON\n",
    "    format. Extract the train/test input/output pairs of\n",
    "    grids. Convert each grid to np.array and return train_input,\n",
    "    train_output, test_input, test_output.\"\"\"\n",
    "\n",
    "    # Open the JSON file and load it\n",
    "    data = json.load(open(filepath))\n",
    "\n",
    "    # Extract the train/test input/output grids. Each grid will be a\n",
    "    # list of lists of ints. We convert to Numpy.\n",
    "    train_input = [np.array(data['train'][i]['input'])\n",
    "                   for i in range(len(data['train']))]\n",
    "    train_output = [np.array(data['train'][i]['output'])\n",
    "                    for i in range(len(data['train']))]\n",
    "    test_input = [np.array(data['test'][i]['input'])\n",
    "                  for i in range(len(data['test']))]\n",
    "    test_output = [np.array(data['test'][i]['output'])\n",
    "                   for i in range(len(data['test']))]\n",
    "\n",
    "    return (train_input, train_output, test_input, test_output)"
   ]
  },
  {
   "cell_type": "code",
   "execution_count": 3,
   "metadata": {},
   "outputs": [],
   "source": [
    "train_input, train_output, test_input, test_output = read_ARC_JSON(\"../data/training/dc1df850.json\")"
   ]
  },
  {
   "cell_type": "code",
   "execution_count": 4,
   "metadata": {},
   "outputs": [
    {
     "output_type": "stream",
     "name": "stdout",
     "text": [
      "<class 'list'>\n"
     ]
    }
   ],
   "source": [
    "print(type(train_input))"
   ]
  },
  {
   "cell_type": "code",
   "execution_count": 5,
   "metadata": {},
   "outputs": [],
   "source": [
    "def get_closed_area(arr):\n",
    "    # depth first search\n",
    "    green = 3\n",
    "    H, W = arr.shape\n",
    "    Dy = [0, -1, 0, 1]\n",
    "    Dx = [1, 0, -1, 0]\n",
    "    arr_padded = np.pad(arr, ((1, 1), (1, 1)), \"constant\", constant_values=0)\n",
    "    searched = np.zeros(arr_padded.shape, dtype=bool)\n",
    "    searched[0, 0] = True\n",
    "    q = [(0, 0)]\n",
    "    while q:\n",
    "        y, x = q.pop()\n",
    "        for dy, dx in zip(Dy, Dx):\n",
    "            y_, x_ = y+dy, x+dx\n",
    "            if not 0 <= y_ < H+2 or not 0 <= x_ < W+2:\n",
    "                continue\n",
    "            if not searched[y_][x_] and arr_padded[y_][x_] == 0:\n",
    "                q.append((y_, x_))\n",
    "                searched[y_, x_] = True\n",
    "    res = searched[1:-1, 1:-1]\n",
    "    res |= arr == green\n",
    "    return ~res"
   ]
  },
  {
   "cell_type": "code",
   "execution_count": 20,
   "metadata": {},
   "outputs": [],
   "source": [
    "def solve_dc1df850(x):\n",
    "    x1 = copy.deepcopy(x)\n",
    "    red, blue = 2, 1\n",
    "\n",
    "    struct2 = ndimage.generate_binary_structure(2, 2)\n",
    "    final_arr = ndimage.binary_dilation(x, structure=struct2, mask=2).astype(x.dtype)\n",
    "    return final_arr"
   ]
  },
  {
   "cell_type": "code",
   "execution_count": 21,
   "metadata": {},
   "outputs": [
    {
     "output_type": "stream",
     "name": "stdout",
     "text": [
      "X:\n[[2 0 0 0 0]\n [0 0 0 2 0]\n [0 0 0 0 0]\n [0 6 0 0 0]\n [0 0 0 0 0]]\nSolved:\n[[1 1 1 1 1]\n [1 1 1 1 1]\n [1 1 1 1 1]\n [1 1 1 0 0]\n [1 1 1 0 0]]\nX:\n[[0 0 0 0 0 0 0 2]\n [0 0 0 0 0 0 0 0]\n [0 0 0 3 0 0 0 0]\n [0 0 0 0 0 0 0 0]\n [0 0 0 0 0 0 8 0]\n [0 0 0 0 0 0 0 0]\n [0 0 2 0 0 0 0 0]\n [0 0 0 0 0 0 0 0]]\nSolved:\n[[0 0 0 0 0 0 1 1]\n [0 0 1 1 1 0 1 1]\n [0 0 1 1 1 0 0 0]\n [0 0 1 1 1 1 1 1]\n [0 0 0 0 0 1 1 1]\n [0 1 1 1 0 1 1 1]\n [0 1 1 1 0 0 0 0]\n [0 1 1 1 0 0 0 0]]\nX:\n[[0 0 0 0 0]\n [0 2 0 0 0]\n [0 0 0 0 0]\n [0 0 0 0 0]]\nSolved:\n[[1 1 1 0 0]\n [1 1 1 0 0]\n [1 1 1 0 0]\n [0 0 0 0 0]]\n"
     ]
    }
   ],
   "source": [
    "for x, y in zip(train_input, train_output):\n",
    "        # yhat = solve(x)\n",
    "        print(\"X:\")\n",
    "        print(x)\n",
    "        print(\"Solved:\")\n",
    "        print(solve_dc1df850(x))\n",
    "        # show_result(x, y, yhat)\n"
   ]
  },
  {
   "cell_type": "code",
   "execution_count": null,
   "metadata": {},
   "outputs": [],
   "source": []
  }
 ]
}